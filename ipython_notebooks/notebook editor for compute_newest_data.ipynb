{
 "cells": [
  {
   "cell_type": "code",
   "execution_count": 8,
   "metadata": {},
   "outputs": [],
   "source": [
    "#ライブラリのインポート\n",
    "import requests\n",
    "from bs4 import BeautifulSoup\n",
    "from datetime import date\n",
    "import pytz\n",
    "from datetime import datetime\n",
    "import pandas as pd"
   ]
  },
  {
   "cell_type": "code",
   "execution_count": 3,
   "metadata": {},
   "outputs": [
    {
     "name": "stdout",
     "output_type": "stream",
     "text": [
      "天気:曇時々雪\n",
      "最高気温:-2 [+2]\n",
      "最低気温:-6 [0]\n"
     ]
    }
   ],
   "source": [
    "#tenki.jpの目的の地域のページのURL（今回は東京都調布市）\n",
    "url = 'https://tenki.jp/forecast/2/5/3110/2202/'\n",
    "\n",
    "#HTTPリクエスト\n",
    "r = requests.get(url)\n",
    "\n",
    "#プロキシ環境下の場合は以下を記述\n",
    "\"\"\"\n",
    "proxies = {\n",
    "    \"http\":\"http://proxy.xxx.xxx.xxx:8080\",\n",
    "    \"https\":\"http://proxy.xxx.xxx.xxx:8080\"\n",
    "}\n",
    "r = requests.get(url, proxies=proxies)\n",
    "\"\"\"\n",
    "\n",
    "#HTMLの解析\n",
    "bsObj = BeautifulSoup(r.content, \"html.parser\")\n",
    "\n",
    "#今日の天気を取得\n",
    "today = bsObj.find(class_=\"today-weather\")\n",
    "weather = today.p.string\n",
    "\n",
    "#気温情報のまとまり\n",
    "temp=today.div.find(class_=\"date-value-wrap\")\n",
    "\n",
    "#気温の取得\n",
    "temp=temp.find_all(\"dd\")\n",
    "temp_max = temp[0].span.string #最高気温\n",
    "temp_max_diff=temp[1].string #最高気温の前日比\n",
    "temp_min = temp[2].span.string #最低気温\n",
    "temp_min_diff=temp[3].string #最低気温の前日比\n",
    "\n",
    "#結果の出力\n",
    "print(\"天気:{}\".format(weather))\n",
    "print(\"最高気温:{} {}\".format(temp_max,temp_max_diff))\n",
    "print(\"最低気温:{} {}\".format(temp_min,temp_min_diff))"
   ]
  },
  {
   "cell_type": "code",
   "execution_count": 4,
   "metadata": {},
   "outputs": [
    {
     "data": {
      "text/plain": [
       "-4.0"
      ]
     },
     "execution_count": 4,
     "metadata": {},
     "output_type": "execute_result"
    }
   ],
   "source": [
    "temp_ave = (int(temp_max) + int(temp_min))/2\n",
    "temp_ave"
   ]
  },
  {
   "cell_type": "code",
   "execution_count": 5,
   "metadata": {},
   "outputs": [],
   "source": [
    "from dateutil import tz\n",
    "\n",
    "# METHOD 1: Hardcode zones:\n",
    "from_zone = tz.gettz('UTC')\n",
    "to_zone = tz.gettz('Japan')\n",
    "\n",
    "utc = datetime.utcnow()\n",
    "# utc = datetime.strptime('2011-01-21 02:37:21', '%Y-%m-%d %H:%M:%S')\n",
    "\n",
    "# Tell the datetime object that it's in UTC time zone since \n",
    "# datetime objects are 'naive' by default\n",
    "utc = utc.replace(tzinfo=from_zone)\n",
    "\n",
    "# Convert time zone\n",
    "jpn_time = utc.astimezone(to_zone)"
   ]
  },
  {
   "cell_type": "code",
   "execution_count": 6,
   "metadata": {},
   "outputs": [],
   "source": [
    "today = str(jpn_time.year)+\"-\"+str(jpn_time.month)+\"-\"+str(jpn_time.day)"
   ]
  },
  {
   "cell_type": "code",
   "execution_count": 10,
   "metadata": {},
   "outputs": [
    {
     "data": {
      "text/html": [
       "<div>\n",
       "<style scoped>\n",
       "    .dataframe tbody tr th:only-of-type {\n",
       "        vertical-align: middle;\n",
       "    }\n",
       "\n",
       "    .dataframe tbody tr th {\n",
       "        vertical-align: top;\n",
       "    }\n",
       "\n",
       "    .dataframe thead th {\n",
       "        text-align: right;\n",
       "    }\n",
       "</style>\n",
       "<table border=\"1\" class=\"dataframe\">\n",
       "  <thead>\n",
       "    <tr style=\"text-align: right;\">\n",
       "      <th></th>\n",
       "      <th>date</th>\n",
       "      <th>temperature</th>\n",
       "    </tr>\n",
       "  </thead>\n",
       "  <tbody>\n",
       "    <tr>\n",
       "      <th>0</th>\n",
       "      <td>2021-2-9</td>\n",
       "      <td>-4.0</td>\n",
       "    </tr>\n",
       "  </tbody>\n",
       "</table>\n",
       "</div>"
      ],
      "text/plain": [
       "       date  temperature\n",
       "0  2021-2-9         -4.0"
      ]
     },
     "execution_count": 10,
     "metadata": {},
     "output_type": "execute_result"
    }
   ],
   "source": [
    "df = pd.DataFrame({\"date\":[today], \"temperature\":[temp_ave]})"
   ]
  },
  {
   "cell_type": "code",
   "execution_count": null,
   "metadata": {},
   "outputs": [],
   "source": []
  }
 ],
 "metadata": {
  "associatedRecipe": "compute_newest_data",
  "creator": "admin",
  "customFields": {},
  "kernelspec": {
   "display_name": "Python (env ebay-scraping)",
   "language": "python",
   "name": "py-dku-venv-ebay-scraping"
  },
  "language_info": {
   "codemirror_mode": {
    "name": "ipython",
    "version": 3
   },
   "file_extension": ".py",
   "mimetype": "text/x-python",
   "name": "python",
   "nbconvert_exporter": "python",
   "pygments_lexer": "ipython3",
   "version": "3.6.8"
  },
  "tags": [
   "recipe-editor"
  ]
 },
 "nbformat": 4,
 "nbformat_minor": 1
}
